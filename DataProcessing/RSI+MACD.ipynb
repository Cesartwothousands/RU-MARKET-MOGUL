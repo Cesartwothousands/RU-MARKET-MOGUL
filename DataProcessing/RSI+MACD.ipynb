{
 "cells": [
  {
   "cell_type": "code",
   "execution_count": 3,
   "metadata": {},
   "outputs": [
    {
     "name": "stdout",
     "output_type": "stream",
     "text": [
      "[*********************100%***********************]  1 of 1 completed\n",
      "Latest trading day:\n",
      "VPT and price trend: Rising in sync\n",
      "RSI value: 31.057973431160022\n"
     ]
    }
   ],
   "source": [
    "import yfinance as yf\n",
    "import numpy as np\n",
    "import datetime\n",
    "\n",
    "# Get data\n",
    "ticker = \"AAPL\"  # Use Apple Inc. as an example\n",
    "today = datetime.date.today()\n",
    "start_date = today - datetime.timedelta(days=5)\n",
    "\n",
    "data = yf.download(ticker, start=start_date, end=today, interval=\"1h\")\n",
    "data[\"VPT\"] = np.nan\n",
    "data[\"RSI\"] = np.nan\n",
    "\n",
    "# Calculate VPT indicator\n",
    "data[\"Price Change\"] = data[\"Close\"] - data[\"Close\"].shift(1)\n",
    "data[\"Volume Multiplier\"] = data[\"Price Change\"] * data[\"Volume\"]\n",
    "data[\"VPT\"] = data[\"Volume Multiplier\"].cumsum()\n",
    "\n",
    "# Calculate RSI indicator\n",
    "delta = data[\"Close\"].diff()\n",
    "gain, loss = delta.copy(), delta.copy()\n",
    "gain[gain < 0] = 0\n",
    "loss[loss > 0] = 0\n",
    "loss = abs(loss)\n",
    "\n",
    "avg_gain = gain.rolling(window=14).mean()\n",
    "avg_loss = loss.rolling(window=14).mean()\n",
    "\n",
    "rs = avg_gain / avg_loss\n",
    "data[\"RSI\"] = 100 - (100 / (1 + rs))\n",
    "\n",
    "# Get the latest trading day data\n",
    "latest_data = data.iloc[-1:]\n",
    "\n",
    "# Determine if VPT and price are in sync (rising or falling)\n",
    "vpt_trend = None\n",
    "if latest_data[\"VPT\"].values[0] > data[\"VPT\"].iloc[-2] and latest_data[\"Close\"].values[0] > data[\"Close\"].iloc[-2]:\n",
    "    vpt_trend = \"Rising in sync\"\n",
    "elif latest_data[\"VPT\"].values[0] < data[\"VPT\"].iloc[-2] and latest_data[\"Close\"].values[0] < data[\"Close\"].iloc[-2]:\n",
    "    vpt_trend = \"Falling in sync\"\n",
    "else:\n",
    "    vpt_trend = \"No clear trend\"\n",
    "\n",
    "# Get RSI value\n",
    "rsi_value = latest_data[\"RSI\"].values[0]\n",
    "\n",
    "print(f\"Latest trading day:\\nVPT and price trend: {vpt_trend}\\nRSI value: {rsi_value}\")\n"
   ]
  },
  {
   "cell_type": "code",
   "execution_count": 4,
   "metadata": {},
   "outputs": [
    {
     "name": "stdout",
     "output_type": "stream",
     "text": [
      "[*********************100%***********************]  1 of 1 completed\n",
      "Latest trading day:\n",
      "MACD trend: Bearish\n"
     ]
    }
   ],
   "source": [
    "import yfinance as yf\n",
    "import numpy as np\n",
    "import datetime\n",
    "\n",
    "# Get data\n",
    "ticker = \"AAPL\"  # Use Apple Inc. as an example\n",
    "today = datetime.date.today()\n",
    "start_date = today - datetime.timedelta(days=90)\n",
    "\n",
    "data = yf.download(ticker, start=start_date, end=today, interval=\"1d\")\n",
    "data[\"MACD\"] = np.nan\n",
    "data[\"Signal\"] = np.nan\n",
    "\n",
    "# Calculate MACD indicator\n",
    "exp12 = data[\"Close\"].ewm(span=12, adjust=False).mean()\n",
    "exp26 = data[\"Close\"].ewm(span=26, adjust=False).mean()\n",
    "macd = exp12 - exp26\n",
    "signal = macd.ewm(span=9, adjust=False).mean()\n",
    "\n",
    "data[\"MACD\"] = macd\n",
    "data[\"Signal\"] = signal\n",
    "\n",
    "# Get the latest trading day data\n",
    "latest_data = data.iloc[-1:]\n",
    "\n",
    "# Determine the MACD trend\n",
    "macd_trend = None\n",
    "if latest_data[\"MACD\"].values[0] > latest_data[\"Signal\"].values[0]:\n",
    "    macd_trend = \"Bullish\"\n",
    "elif latest_data[\"MACD\"].values[0] < latest_data[\"Signal\"].values[0]:\n",
    "    macd_trend = \"Bearish\"\n",
    "else:\n",
    "    macd_trend = \"Neutral\"\n",
    "\n",
    "print(f\"Latest trading day:\\nMACD trend: {macd_trend}\")\n"
   ]
  },
  {
   "cell_type": "code",
   "execution_count": null,
   "metadata": {},
   "outputs": [],
   "source": [
    "import yfinance as yf\n",
    "import numpy as np\n",
    "import datetime\n",
    "\n"
   ]
  }
 ],
 "metadata": {
  "kernelspec": {
   "display_name": "myenv",
   "language": "python",
   "name": "python3"
  },
  "language_info": {
   "codemirror_mode": {
    "name": "ipython",
    "version": 3
   },
   "file_extension": ".py",
   "mimetype": "text/x-python",
   "name": "python",
   "nbconvert_exporter": "python",
   "pygments_lexer": "ipython3",
   "version": "3.8.6"
  },
  "orig_nbformat": 4
 },
 "nbformat": 4,
 "nbformat_minor": 2
}
