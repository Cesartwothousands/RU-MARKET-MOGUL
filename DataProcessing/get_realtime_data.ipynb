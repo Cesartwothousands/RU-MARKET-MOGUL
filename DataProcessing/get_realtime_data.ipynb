{
 "cells": [
  {
   "cell_type": "code",
   "execution_count": 3,
   "metadata": {},
   "outputs": [
    {
     "name": "stdout",
     "output_type": "stream",
     "text": [
      "[*********************100%***********************]  1 of 1 completed\n",
      "[*********************100%***********************]  1 of 1 completed\n",
      "[*********************100%***********************]  1 of 1 completed\n",
      "[*********************100%***********************]  1 of 1 completed\n",
      "[*********************100%***********************]  1 of 1 completed\n"
     ]
    }
   ],
   "source": [
    "import yfinance as yf\n",
    "from datetime import datetime, timedelta\n",
    "\n",
    "symbol = 'AAPL'\n",
    "end_date = datetime.now()\n",
    "\n",
    "def get_stock_data(date, interval):\n",
    "    stock_data = yf.download(symbol, start=date, end=end_date, interval=interval)\n",
    "    stock_data = get_sma_data(stock_data)\n",
    "    stock_data = get_stock_volume(stock_data)\n",
    "    \n",
    "    return stock_data\n",
    "\n",
    "def get_sma_data(stock_data):\n",
    "    stock_data['Sma'] = stock_data['Close'].rolling(window=20).mean()\n",
    "    stock_data['Std'] = stock_data['Close'].rolling(window=20).std()\n",
    "    stock_data['Upper'] = stock_data['Sma'] + (stock_data['Std'] * 2)\n",
    "    stock_data['Lower'] = stock_data['Sma'] - (stock_data['Std'] * 2)\n",
    "    \n",
    "    return stock_data\n",
    "\n",
    "def get_stock_volume(stock_data):\n",
    "    stock_data['Volume'] = stock_data['Volume'].fillna(0)\n",
    "    \n",
    "    return stock_data\n",
    "\n",
    "def stock_data_to_json(stock_data, interval):\n",
    "    stock_data = stock_data.drop(columns=['Adj Close', 'Std'])\n",
    "    json_data = stock_data.reset_index().to_dict(orient='records')\n",
    "    index_name = 'Date' if 'Date' in stock_data.index.names else 'Datetime'\n",
    "    \n",
    "    for record in json_data:\n",
    "        if interval == '1m' or interval == '1h':\n",
    "            record[index_name] = record[index_name].strftime('%Y-%m-%d %H:%M')\n",
    "        else:\n",
    "            record[index_name] = record[index_name].strftime('%Y-%m-%d')\n",
    "        \n",
    "    return json_data\n",
    "\n",
    "stock_data_list = []\n",
    "\n",
    "start_date = end_date - timedelta(days=1)\n",
    "stockdata = get_stock_data(start_date, '1m')\n",
    "stock_data_list.append(stock_data_to_json(stockdata, '1m'))\n",
    "\n",
    "start_date = end_date - timedelta(days=30)\n",
    "stockdata = get_stock_data(start_date, '1h')\n",
    "stock_data_list.append(stock_data_to_json(stockdata, '1h'))\n",
    "\n",
    "start_date = end_date - timedelta(days=180)\n",
    "stockdata = get_stock_data(start_date, '1d')\n",
    "stock_data_list.append(stock_data_to_json(stockdata, '1d'))\n",
    "\n",
    "start_date = end_date - timedelta(days=365)\n",
    "stockdata = get_stock_data(start_date, '1d')\n",
    "stock_data_list.append(stock_data_to_json(stockdata, '1d'))\n",
    "\n",
    "start_date = end_date - timedelta(days=365 * 5)\n",
    "stockdata = get_stock_data(start_date, '5d')\n",
    "stock_data_list.append(stock_data_to_json(stockdata, '5d'))\n"
   ]
  },
  {
   "cell_type": "code",
   "execution_count": null,
   "metadata": {},
   "outputs": [],
   "source": [
    "stock_data = yf.download(\n",
    "            'BTC-USD', start=datetime.now()-timedelta(days=1), end=end_date, interval='1m')\n",
    "stock_data\n",
    "\n",
    "'''\n",
    "I just tested a script using ydownload with BTC-USD and an interval of 1m and I get the same result. If I had to guess, Yahoo isn't offering OHLC data at this level at the moment.\n",
    "'''"
   ]
  }
 ],
 "metadata": {
  "kernelspec": {
   "display_name": "myenv",
   "language": "python",
   "name": "python3"
  },
  "language_info": {
   "codemirror_mode": {
    "name": "ipython",
    "version": 3
   },
   "file_extension": ".py",
   "mimetype": "text/x-python",
   "name": "python",
   "nbconvert_exporter": "python",
   "pygments_lexer": "ipython3",
   "version": "3.8.6"
  },
  "orig_nbformat": 4
 },
 "nbformat": 4,
 "nbformat_minor": 2
}
