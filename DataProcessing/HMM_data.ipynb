{
 "cells": [
  {
   "cell_type": "code",
   "execution_count": null,
   "metadata": {},
   "outputs": [],
   "source": [
    "import yfinance as yf\n",
    "import pandas as pd\n",
    "from datetime import datetime, timedelta\n",
    "\n",
    "def read_symbols_from_file(filename):\n",
    "    with open(filename, 'r') as f:\n",
    "        symbols = f.readlines()\n",
    "    return [s.strip() for s in symbols]\n",
    "\n",
    "stock_symbols_file = 'AllStocks.txt'\n",
    "stock_symbols = read_symbols_from_file(stock_symbols_file)\n",
    "\n",
    "# Get data\n",
    "end_date = datetime.now()\n",
    "start_date = end_date - timedelta(days=365*10)\n",
    "\n",
    "# Initialize an empty DataFrame to store processed data\n",
    "processed_data = pd.DataFrame()\n",
    "\n",
    "i=1\n",
    "for ticker in stock_symbols:\n",
    "    try:\n",
    "        data = yf.download(ticker, start=start_date, end=end_date, interval=\"3mo\")\n",
    "    except     Exception as e:\n",
    "        print(f\"Error downloading data for {ticker}: {e}\")\n",
    "        continue\n",
    "    \n",
    "    # Calculate required metrics\n",
    "    processed_data_temp = pd.DataFrame()\n",
    "    processed_data_temp['Close-Open/Open'] = (data['Close'] - data['Open']) / data['Open']\n",
    "    processed_data_temp['High-Open/Open'] = (data['High'] - data['Open']) / data['Open']\n",
    "    processed_data_temp['Open-Low/Open'] = (data['Open'] - data['Low']) / data['Open']\n",
    "    processed_data_temp['Volume'] = data['Volume']\n",
    "    processed_data_temp['Ticker'] = ticker\n",
    "    processed_data_temp.index = data.index\n",
    "\n",
    "    # Concatenate the processed data to the main DataFrame\n",
    "    processed_data = pd.concat([processed_data, processed_data_temp])\n",
    "    print(f\"Processed data for {ticker} ({i}/{len(stock_symbols)})\")\n",
    "    i+=1\n",
    "\n",
    "# Save processed data as a CSV file\n",
    "processed_data.to_csv('processed_stock_data.csv')\n",
    "\n"
   ]
  }
 ],
 "metadata": {
  "kernelspec": {
   "display_name": "myenv",
   "language": "python",
   "name": "python3"
  },
  "language_info": {
   "codemirror_mode": {
    "name": "ipython",
    "version": 3
   },
   "file_extension": ".py",
   "mimetype": "text/x-python",
   "name": "python",
   "nbconvert_exporter": "python",
   "pygments_lexer": "ipython3",
   "version": "3.8.6"
  },
  "orig_nbformat": 4
 },
 "nbformat": 4,
 "nbformat_minor": 2
}
